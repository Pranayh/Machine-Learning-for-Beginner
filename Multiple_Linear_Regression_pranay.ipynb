{
  "nbformat": 4,
  "nbformat_minor": 0,
  "metadata": {
    "colab": {
      "name": "Multiple Linear Regression pranay.ipynb",
      "provenance": [],
      "collapsed_sections": []
    },
    "kernelspec": {
      "name": "python3",
      "display_name": "Python 3"
    }
  },
  "cells": [
    {
      "cell_type": "markdown",
      "metadata": {
        "id": "FB7mg-9WUSAn"
      },
      "source": [
        "# Multiple Linear Regression "
      ]
    },
    {
      "cell_type": "markdown",
      "metadata": {
        "id": "zcXufiytUV3b"
      },
      "source": [
        "## Importing Libraries"
      ]
    },
    {
      "cell_type": "code",
      "metadata": {
        "id": "7t7q6-tcdATK"
      },
      "source": [
        "import pandas as pd\n",
        "import numpy as np\n",
        "import matplotlib.pyplot as plt"
      ],
      "execution_count": null,
      "outputs": []
    },
    {
      "cell_type": "markdown",
      "metadata": {
        "id": "x1V8I7-1Ugu8"
      },
      "source": [
        "## Importing Data Set"
      ]
    },
    {
      "cell_type": "code",
      "metadata": {
        "colab": {
          "base_uri": "https://localhost:8080/"
        },
        "id": "2b41fEUCdMYn",
        "outputId": "ac5450b5-f2e8-4f84-cc5a-28bc93e66d63"
      },
      "source": [
        "data=pd.read_excel(\"/content/sample_data/Covid_Data_new (2).xlsx\")\n",
        "print(data)\n",
        "x=data.iloc[:,:-1].values\n",
        "y=data.iloc[:,-1].values\n"
      ],
      "execution_count": null,
      "outputs": [
        {
          "output_type": "stream",
          "name": "stdout",
          "text": [
            "     age body_temperature  Blood O2 Level in Percentage Needed Hospitalization\n",
            "0   10.0           Normal                          97.0                     No\n",
            "1   12.0           Normal                          97.0                     No\n",
            "2   15.0           Normal                          94.0                     No\n",
            "3   10.0           Normal                          97.0                     No\n",
            "4   13.0         Moderate                          94.0                     No\n",
            "..   ...              ...                           ...                    ...\n",
            "65  86.0             High                          76.0                    Yes\n",
            "66  61.0         Moderate                          90.0                     No\n",
            "67  94.0             High                          64.0                    Yes\n",
            "68  81.0             High                          75.0                    Yes\n",
            "69  76.0             High                          80.0                    Yes\n",
            "\n",
            "[70 rows x 4 columns]\n"
          ]
        }
      ]
    },
    {
      "cell_type": "code",
      "metadata": {
        "colab": {
          "base_uri": "https://localhost:8080/",
          "height": 206
        },
        "id": "VFKtsMIFQkIs",
        "outputId": "ad17eacf-0d7b-4253-b8e6-c6ce1e21b16d"
      },
      "source": [
        "data.head()"
      ],
      "execution_count": null,
      "outputs": [
        {
          "output_type": "execute_result",
          "data": {
            "text/html": [
              "<div>\n",
              "<style scoped>\n",
              "    .dataframe tbody tr th:only-of-type {\n",
              "        vertical-align: middle;\n",
              "    }\n",
              "\n",
              "    .dataframe tbody tr th {\n",
              "        vertical-align: top;\n",
              "    }\n",
              "\n",
              "    .dataframe thead th {\n",
              "        text-align: right;\n",
              "    }\n",
              "</style>\n",
              "<table border=\"1\" class=\"dataframe\">\n",
              "  <thead>\n",
              "    <tr style=\"text-align: right;\">\n",
              "      <th></th>\n",
              "      <th>age</th>\n",
              "      <th>body_temperature</th>\n",
              "      <th>Blood O2 Level in Percentage</th>\n",
              "      <th>Needed Hospitalization</th>\n",
              "    </tr>\n",
              "  </thead>\n",
              "  <tbody>\n",
              "    <tr>\n",
              "      <th>0</th>\n",
              "      <td>10.0</td>\n",
              "      <td>Normal</td>\n",
              "      <td>97.0</td>\n",
              "      <td>No</td>\n",
              "    </tr>\n",
              "    <tr>\n",
              "      <th>1</th>\n",
              "      <td>12.0</td>\n",
              "      <td>Normal</td>\n",
              "      <td>97.0</td>\n",
              "      <td>No</td>\n",
              "    </tr>\n",
              "    <tr>\n",
              "      <th>2</th>\n",
              "      <td>15.0</td>\n",
              "      <td>Normal</td>\n",
              "      <td>94.0</td>\n",
              "      <td>No</td>\n",
              "    </tr>\n",
              "    <tr>\n",
              "      <th>3</th>\n",
              "      <td>10.0</td>\n",
              "      <td>Normal</td>\n",
              "      <td>97.0</td>\n",
              "      <td>No</td>\n",
              "    </tr>\n",
              "    <tr>\n",
              "      <th>4</th>\n",
              "      <td>13.0</td>\n",
              "      <td>Moderate</td>\n",
              "      <td>94.0</td>\n",
              "      <td>No</td>\n",
              "    </tr>\n",
              "  </tbody>\n",
              "</table>\n",
              "</div>"
            ],
            "text/plain": [
              "    age body_temperature  Blood O2 Level in Percentage Needed Hospitalization\n",
              "0  10.0           Normal                          97.0                     No\n",
              "1  12.0           Normal                          97.0                     No\n",
              "2  15.0           Normal                          94.0                     No\n",
              "3  10.0           Normal                          97.0                     No\n",
              "4  13.0         Moderate                          94.0                     No"
            ]
          },
          "metadata": {},
          "execution_count": 8
        }
      ]
    },
    {
      "cell_type": "code",
      "metadata": {
        "colab": {
          "base_uri": "https://localhost:8080/"
        },
        "id": "AatX4kWZP3eD",
        "outputId": "0b2c2272-d231-4da9-c488-4e899c2d5845"
      },
      "source": [
        "data.info()"
      ],
      "execution_count": null,
      "outputs": [
        {
          "output_type": "stream",
          "name": "stdout",
          "text": [
            "<class 'pandas.core.frame.DataFrame'>\n",
            "RangeIndex: 70 entries, 0 to 69\n",
            "Data columns (total 4 columns):\n",
            " #   Column                        Non-Null Count  Dtype  \n",
            "---  ------                        --------------  -----  \n",
            " 0   age                           69 non-null     float64\n",
            " 1   body_temperature              70 non-null     object \n",
            " 2   Blood O2 Level in Percentage  69 non-null     float64\n",
            " 3   Needed Hospitalization        70 non-null     object \n",
            "dtypes: float64(2), object(2)\n",
            "memory usage: 2.3+ KB\n"
          ]
        }
      ]
    },
    {
      "cell_type": "code",
      "metadata": {
        "colab": {
          "base_uri": "https://localhost:8080/",
          "height": 300
        },
        "id": "aS5Pbbz0QZZS",
        "outputId": "438e44f1-3ff2-4d8d-a4ef-cec66687197c"
      },
      "source": [
        "data.describe()"
      ],
      "execution_count": null,
      "outputs": [
        {
          "output_type": "execute_result",
          "data": {
            "text/html": [
              "<div>\n",
              "<style scoped>\n",
              "    .dataframe tbody tr th:only-of-type {\n",
              "        vertical-align: middle;\n",
              "    }\n",
              "\n",
              "    .dataframe tbody tr th {\n",
              "        vertical-align: top;\n",
              "    }\n",
              "\n",
              "    .dataframe thead th {\n",
              "        text-align: right;\n",
              "    }\n",
              "</style>\n",
              "<table border=\"1\" class=\"dataframe\">\n",
              "  <thead>\n",
              "    <tr style=\"text-align: right;\">\n",
              "      <th></th>\n",
              "      <th>age</th>\n",
              "      <th>Blood O2 Level in Percentage</th>\n",
              "    </tr>\n",
              "  </thead>\n",
              "  <tbody>\n",
              "    <tr>\n",
              "      <th>count</th>\n",
              "      <td>69.000000</td>\n",
              "      <td>69.000000</td>\n",
              "    </tr>\n",
              "    <tr>\n",
              "      <th>mean</th>\n",
              "      <td>45.130435</td>\n",
              "      <td>82.072464</td>\n",
              "    </tr>\n",
              "    <tr>\n",
              "      <th>std</th>\n",
              "      <td>24.223781</td>\n",
              "      <td>11.702587</td>\n",
              "    </tr>\n",
              "    <tr>\n",
              "      <th>min</th>\n",
              "      <td>10.000000</td>\n",
              "      <td>53.000000</td>\n",
              "    </tr>\n",
              "    <tr>\n",
              "      <th>25%</th>\n",
              "      <td>25.000000</td>\n",
              "      <td>72.000000</td>\n",
              "    </tr>\n",
              "    <tr>\n",
              "      <th>50%</th>\n",
              "      <td>42.000000</td>\n",
              "      <td>86.000000</td>\n",
              "    </tr>\n",
              "    <tr>\n",
              "      <th>75%</th>\n",
              "      <td>62.000000</td>\n",
              "      <td>92.000000</td>\n",
              "    </tr>\n",
              "    <tr>\n",
              "      <th>max</th>\n",
              "      <td>94.000000</td>\n",
              "      <td>99.000000</td>\n",
              "    </tr>\n",
              "  </tbody>\n",
              "</table>\n",
              "</div>"
            ],
            "text/plain": [
              "             age  Blood O2 Level in Percentage\n",
              "count  69.000000                     69.000000\n",
              "mean   45.130435                     82.072464\n",
              "std    24.223781                     11.702587\n",
              "min    10.000000                     53.000000\n",
              "25%    25.000000                     72.000000\n",
              "50%    42.000000                     86.000000\n",
              "75%    62.000000                     92.000000\n",
              "max    94.000000                     99.000000"
            ]
          },
          "metadata": {},
          "execution_count": 7
        }
      ]
    },
    {
      "cell_type": "code",
      "metadata": {
        "colab": {
          "base_uri": "https://localhost:8080/"
        },
        "id": "QMNWQ92-eXsK",
        "outputId": "0c55615c-9a3b-4e1c-e54c-2a17a4332305"
      },
      "source": [
        "print(x)\n"
      ],
      "execution_count": null,
      "outputs": [
        {
          "output_type": "stream",
          "name": "stdout",
          "text": [
            "[[10.0 'Normal' 97.0]\n",
            " [12.0 'Normal' 97.0]\n",
            " [15.0 'Normal' 94.0]\n",
            " [10.0 'Normal' 97.0]\n",
            " [13.0 'Moderate' 94.0]\n",
            " [12.0 'Moderate' 97.0]\n",
            " [13.0 'Moderate' 93.0]\n",
            " [15.0 'Moderate' 92.0]\n",
            " [18.0 'Moderate' 66.0]\n",
            " [19.0 'Normal' 92.0]\n",
            " [20.0 'Normal' 93.0]\n",
            " [17.0 'Normal' 93.0]\n",
            " [16.0 'Normal' 92.0]\n",
            " [18.0 'Normal' 93.0]\n",
            " [20.0 'Normal' 92.0]\n",
            " [25.0 'Moderate' 93.0]\n",
            " [24.0 'Moderate' 92.0]\n",
            " [26.0 'High' 94.0]\n",
            " [28.0 'Normal' 99.0]\n",
            " [29.0 'Normal' 93.0]\n",
            " [30.0 'Moderate' 62.0]\n",
            " [19.0 'Normal' 89.0]\n",
            " [25.0 'Normal' 86.0]\n",
            " [26.0 'Normal' nan]\n",
            " [28.0 'Normal' 89.0]\n",
            " [30.0 'Moderate' 86.0]\n",
            " [35.0 'Moderate' 89.0]\n",
            " [32.0 'Moderate' 84.0]\n",
            " [nan 'Moderate' 90.0]\n",
            " [32.0 'Moderate' 89.0]\n",
            " [35.0 'Moderate' 92.0]\n",
            " [38.0 'High' 75.0]\n",
            " [40.0 'Moderate' 90.0]\n",
            " [46.0 'High' 91.0]\n",
            " [48.0 'Moderate' 93.0]\n",
            " [42.0 'High' 92.0]\n",
            " [40.0 'High' 92.0]\n",
            " [49.0 'Moderate' 80.0]\n",
            " [50.0 'High' 77.0]\n",
            " [36.0 'High' 90.0]\n",
            " [52.0 'High' 80.0]\n",
            " [56.0 'High' 77.0]\n",
            " [58.0 'High' 70.0]\n",
            " [59.0 'High' 69.0]\n",
            " [60.0 'High' 68.0]\n",
            " [53.0 'High' 55.0]\n",
            " [54.0 'High' 70.0]\n",
            " [62.0 'High' 68.0]\n",
            " [63.0 'High' 66.0]\n",
            " [68.0 'High' 67.0]\n",
            " [69.0 'High' 53.0]\n",
            " [64.0 'High' 73.0]\n",
            " [61.0 'High' 76.0]\n",
            " [70.0 'Normal' 88.0]\n",
            " [59.0 'High' 68.0]\n",
            " [62.0 'High' 69.0]\n",
            " [78.0 'High' 71.0]\n",
            " [74.0 'High' 75.0]\n",
            " [75.0 'High' 72.0]\n",
            " [56.0 'High' 76.0]\n",
            " [80.0 'High' 92.0]\n",
            " [82.0 'High' 73.0]\n",
            " [86.0 'High' 71.0]\n",
            " [90.0 'High' 67.0]\n",
            " [84.0 'High' 75.0]\n",
            " [86.0 'High' 76.0]\n",
            " [61.0 'Moderate' 90.0]\n",
            " [94.0 'High' 64.0]\n",
            " [81.0 'High' 75.0]\n",
            " [76.0 'High' 80.0]]\n"
          ]
        }
      ]
    },
    {
      "cell_type": "code",
      "metadata": {
        "colab": {
          "base_uri": "https://localhost:8080/"
        },
        "id": "dlIpteDyeaNj",
        "outputId": "0af1425d-2265-4bdf-b30b-2ab017d52e73"
      },
      "source": [
        "\n",
        "print(y)"
      ],
      "execution_count": null,
      "outputs": [
        {
          "output_type": "stream",
          "name": "stdout",
          "text": [
            "['No' 'No' 'No' 'No' 'No' 'No' 'No' 'No' 'Yes' 'No' 'No' 'No' 'No' 'No'\n",
            " 'No' 'No' 'No' 'No' 'No' 'No' 'Yes' 'No' 'No' 'No' 'No' 'No' 'No' 'No'\n",
            " 'No' 'No' 'No' 'Yes' 'No' 'No' 'No' 'No' 'No' 'Yes' 'Yes' 'No' 'Yes'\n",
            " 'Yes' 'Yes' 'Yes' 'Yes' 'Yes' 'Yes' 'Yes' 'Yes' 'Yes' 'Yes' 'Yes' 'Yes'\n",
            " 'No' 'Yes' 'Yes' 'Yes' 'Yes' 'Yes' 'Yes' 'No' 'Yes' 'Yes' 'Yes' 'Yes'\n",
            " 'Yes' 'No' 'Yes' 'Yes' 'Yes']\n"
          ]
        }
      ]
    },
    {
      "cell_type": "markdown",
      "metadata": {
        "id": "7e2Epcd0llny"
      },
      "source": [
        "# **Missing data Handling**"
      ]
    },
    {
      "cell_type": "code",
      "metadata": {
        "colab": {
          "base_uri": "https://localhost:8080/"
        },
        "id": "bHlSrDN0lsdv",
        "outputId": "23bff76b-2c87-40c7-8904-93bec0e8e0c0"
      },
      "source": [
        "from sklearn.impute import SimpleImputer\n",
        "imputer = SimpleImputer(missing_values = np.nan, strategy = 'mean')\n",
        "\n",
        "imputer.fit(x[:, 0:1])\n",
        "x[: , 0:1] = imputer.transform(x[:, 0:1])\n",
        "imputer.fit(x[:, 2:3])\n",
        "x[: , 2:3] = imputer.transform(x[:, 2:3])\n",
        "\n",
        "print(x)"
      ],
      "execution_count": null,
      "outputs": [
        {
          "output_type": "stream",
          "name": "stdout",
          "text": [
            "[[10.0 'Normal' 97.0]\n",
            " [12.0 'Normal' 97.0]\n",
            " [15.0 'Normal' 94.0]\n",
            " [10.0 'Normal' 97.0]\n",
            " [13.0 'Moderate' 94.0]\n",
            " [12.0 'Moderate' 97.0]\n",
            " [13.0 'Moderate' 93.0]\n",
            " [15.0 'Moderate' 92.0]\n",
            " [18.0 'Moderate' 66.0]\n",
            " [19.0 'Normal' 92.0]\n",
            " [20.0 'Normal' 93.0]\n",
            " [17.0 'Normal' 93.0]\n",
            " [16.0 'Normal' 92.0]\n",
            " [18.0 'Normal' 93.0]\n",
            " [20.0 'Normal' 92.0]\n",
            " [25.0 'Moderate' 93.0]\n",
            " [24.0 'Moderate' 92.0]\n",
            " [26.0 'High' 94.0]\n",
            " [28.0 'Normal' 99.0]\n",
            " [29.0 'Normal' 93.0]\n",
            " [30.0 'Moderate' 62.0]\n",
            " [19.0 'Normal' 89.0]\n",
            " [25.0 'Normal' 86.0]\n",
            " [26.0 'Normal' 82.07246376811594]\n",
            " [28.0 'Normal' 89.0]\n",
            " [30.0 'Moderate' 86.0]\n",
            " [35.0 'Moderate' 89.0]\n",
            " [32.0 'Moderate' 84.0]\n",
            " [45.130434782608695 'Moderate' 90.0]\n",
            " [32.0 'Moderate' 89.0]\n",
            " [35.0 'Moderate' 92.0]\n",
            " [38.0 'High' 75.0]\n",
            " [40.0 'Moderate' 90.0]\n",
            " [46.0 'High' 91.0]\n",
            " [48.0 'Moderate' 93.0]\n",
            " [42.0 'High' 92.0]\n",
            " [40.0 'High' 92.0]\n",
            " [49.0 'Moderate' 80.0]\n",
            " [50.0 'High' 77.0]\n",
            " [36.0 'High' 90.0]\n",
            " [52.0 'High' 80.0]\n",
            " [56.0 'High' 77.0]\n",
            " [58.0 'High' 70.0]\n",
            " [59.0 'High' 69.0]\n",
            " [60.0 'High' 68.0]\n",
            " [53.0 'High' 55.0]\n",
            " [54.0 'High' 70.0]\n",
            " [62.0 'High' 68.0]\n",
            " [63.0 'High' 66.0]\n",
            " [68.0 'High' 67.0]\n",
            " [69.0 'High' 53.0]\n",
            " [64.0 'High' 73.0]\n",
            " [61.0 'High' 76.0]\n",
            " [70.0 'Normal' 88.0]\n",
            " [59.0 'High' 68.0]\n",
            " [62.0 'High' 69.0]\n",
            " [78.0 'High' 71.0]\n",
            " [74.0 'High' 75.0]\n",
            " [75.0 'High' 72.0]\n",
            " [56.0 'High' 76.0]\n",
            " [80.0 'High' 92.0]\n",
            " [82.0 'High' 73.0]\n",
            " [86.0 'High' 71.0]\n",
            " [90.0 'High' 67.0]\n",
            " [84.0 'High' 75.0]\n",
            " [86.0 'High' 76.0]\n",
            " [61.0 'Moderate' 90.0]\n",
            " [94.0 'High' 64.0]\n",
            " [81.0 'High' 75.0]\n",
            " [76.0 'High' 80.0]]\n"
          ]
        }
      ]
    },
    {
      "cell_type": "markdown",
      "metadata": {
        "id": "V9bZq2w39GwP"
      },
      "source": [
        "## Encoding categorical data"
      ]
    },
    {
      "cell_type": "code",
      "metadata": {
        "id": "ysu6pv_GeeV5"
      },
      "source": [
        "from sklearn.compose import ColumnTransformer\n",
        "from sklearn.preprocessing import OneHotEncoder\n",
        "ct = ColumnTransformer(transformers=[('encoder', OneHotEncoder(),[1])], remainder='passthrough')\n",
        "x = np.array(ct.fit_transform(x))"
      ],
      "execution_count": null,
      "outputs": []
    },
    {
      "cell_type": "code",
      "metadata": {
        "colab": {
          "base_uri": "https://localhost:8080/"
        },
        "id": "bSc4Plv5gBgg",
        "outputId": "6f8c08f1-f4ef-4c46-ce9b-7798b9669e53"
      },
      "source": [
        "print(x)"
      ],
      "execution_count": null,
      "outputs": [
        {
          "output_type": "stream",
          "name": "stdout",
          "text": [
            "[[0.0 0.0 1.0 10.0 97.0]\n",
            " [0.0 0.0 1.0 12.0 97.0]\n",
            " [0.0 0.0 1.0 15.0 94.0]\n",
            " [0.0 0.0 1.0 10.0 97.0]\n",
            " [0.0 1.0 0.0 13.0 94.0]\n",
            " [0.0 1.0 0.0 12.0 97.0]\n",
            " [0.0 1.0 0.0 13.0 93.0]\n",
            " [0.0 1.0 0.0 15.0 92.0]\n",
            " [0.0 1.0 0.0 18.0 66.0]\n",
            " [0.0 0.0 1.0 19.0 92.0]\n",
            " [0.0 0.0 1.0 20.0 93.0]\n",
            " [0.0 0.0 1.0 17.0 93.0]\n",
            " [0.0 0.0 1.0 16.0 92.0]\n",
            " [0.0 0.0 1.0 18.0 93.0]\n",
            " [0.0 0.0 1.0 20.0 92.0]\n",
            " [0.0 1.0 0.0 25.0 93.0]\n",
            " [0.0 1.0 0.0 24.0 92.0]\n",
            " [1.0 0.0 0.0 26.0 94.0]\n",
            " [0.0 0.0 1.0 28.0 99.0]\n",
            " [0.0 0.0 1.0 29.0 93.0]\n",
            " [0.0 1.0 0.0 30.0 62.0]\n",
            " [0.0 0.0 1.0 19.0 89.0]\n",
            " [0.0 0.0 1.0 25.0 86.0]\n",
            " [0.0 0.0 1.0 26.0 82.07246376811594]\n",
            " [0.0 0.0 1.0 28.0 89.0]\n",
            " [0.0 1.0 0.0 30.0 86.0]\n",
            " [0.0 1.0 0.0 35.0 89.0]\n",
            " [0.0 1.0 0.0 32.0 84.0]\n",
            " [0.0 1.0 0.0 45.130434782608695 90.0]\n",
            " [0.0 1.0 0.0 32.0 89.0]\n",
            " [0.0 1.0 0.0 35.0 92.0]\n",
            " [1.0 0.0 0.0 38.0 75.0]\n",
            " [0.0 1.0 0.0 40.0 90.0]\n",
            " [1.0 0.0 0.0 46.0 91.0]\n",
            " [0.0 1.0 0.0 48.0 93.0]\n",
            " [1.0 0.0 0.0 42.0 92.0]\n",
            " [1.0 0.0 0.0 40.0 92.0]\n",
            " [0.0 1.0 0.0 49.0 80.0]\n",
            " [1.0 0.0 0.0 50.0 77.0]\n",
            " [1.0 0.0 0.0 36.0 90.0]\n",
            " [1.0 0.0 0.0 52.0 80.0]\n",
            " [1.0 0.0 0.0 56.0 77.0]\n",
            " [1.0 0.0 0.0 58.0 70.0]\n",
            " [1.0 0.0 0.0 59.0 69.0]\n",
            " [1.0 0.0 0.0 60.0 68.0]\n",
            " [1.0 0.0 0.0 53.0 55.0]\n",
            " [1.0 0.0 0.0 54.0 70.0]\n",
            " [1.0 0.0 0.0 62.0 68.0]\n",
            " [1.0 0.0 0.0 63.0 66.0]\n",
            " [1.0 0.0 0.0 68.0 67.0]\n",
            " [1.0 0.0 0.0 69.0 53.0]\n",
            " [1.0 0.0 0.0 64.0 73.0]\n",
            " [1.0 0.0 0.0 61.0 76.0]\n",
            " [0.0 0.0 1.0 70.0 88.0]\n",
            " [1.0 0.0 0.0 59.0 68.0]\n",
            " [1.0 0.0 0.0 62.0 69.0]\n",
            " [1.0 0.0 0.0 78.0 71.0]\n",
            " [1.0 0.0 0.0 74.0 75.0]\n",
            " [1.0 0.0 0.0 75.0 72.0]\n",
            " [1.0 0.0 0.0 56.0 76.0]\n",
            " [1.0 0.0 0.0 80.0 92.0]\n",
            " [1.0 0.0 0.0 82.0 73.0]\n",
            " [1.0 0.0 0.0 86.0 71.0]\n",
            " [1.0 0.0 0.0 90.0 67.0]\n",
            " [1.0 0.0 0.0 84.0 75.0]\n",
            " [1.0 0.0 0.0 86.0 76.0]\n",
            " [0.0 1.0 0.0 61.0 90.0]\n",
            " [1.0 0.0 0.0 94.0 64.0]\n",
            " [1.0 0.0 0.0 81.0 75.0]\n",
            " [1.0 0.0 0.0 76.0 80.0]]\n"
          ]
        }
      ]
    },
    {
      "cell_type": "code",
      "metadata": {
        "colab": {
          "base_uri": "https://localhost:8080/"
        },
        "id": "R9B49E3ElTQS",
        "outputId": "c49420c5-8336-4934-9cee-3b8b0e751710"
      },
      "source": [
        "from sklearn.preprocessing import LabelEncoder\n",
        "le = LabelEncoder()\n",
        "y = le.fit_transform(y)\n",
        "print(y)"
      ],
      "execution_count": null,
      "outputs": [
        {
          "output_type": "stream",
          "name": "stdout",
          "text": [
            "[0 0 0 0 0 0 0 0 1 0 0 0 0 0 0 0 0 0 0 0 1 0 0 0 0 0 0 0 0 0 0 1 0 0 0 0 0\n",
            " 1 1 0 1 1 1 1 1 1 1 1 1 1 1 1 1 0 1 1 1 1 1 1 0 1 1 1 1 1 0 1 1 1]\n"
          ]
        }
      ]
    },
    {
      "cell_type": "markdown",
      "metadata": {
        "id": "2vBbKI1BUilB"
      },
      "source": [
        "## Splitting into test and training set"
      ]
    },
    {
      "cell_type": "code",
      "metadata": {
        "id": "h-afLcBunrsW"
      },
      "source": [
        "from sklearn.model_selection import train_test_split\n",
        "x_train,x_test,y_train,y_test=train_test_split(x,y, test_size = 0.4 ,random_state = 23)\n"
      ],
      "execution_count": null,
      "outputs": []
    },
    {
      "cell_type": "markdown",
      "metadata": {
        "id": "K6uEL0b5Utac"
      },
      "source": [
        "## Training the Multiple Linear Regression model on the Training set"
      ]
    },
    {
      "cell_type": "code",
      "metadata": {
        "colab": {
          "base_uri": "https://localhost:8080/"
        },
        "id": "jHqh2MSAobLO",
        "outputId": "91ae6341-1371-4ad0-915f-b5864e1f697a"
      },
      "source": [
        "from sklearn.linear_model import LinearRegression\n",
        "regg = LinearRegression()\n",
        "regg.fit(x_train,y_train)"
      ],
      "execution_count": null,
      "outputs": [
        {
          "output_type": "execute_result",
          "data": {
            "text/plain": [
              "LinearRegression(copy_X=True, fit_intercept=True, n_jobs=None, normalize=False)"
            ]
          },
          "metadata": {},
          "execution_count": 61
        }
      ]
    },
    {
      "cell_type": "markdown",
      "metadata": {
        "id": "RyRva69qUzBK"
      },
      "source": [
        "## Predicting the Test set results"
      ]
    },
    {
      "cell_type": "code",
      "metadata": {
        "colab": {
          "base_uri": "https://localhost:8080/"
        },
        "id": "xAYEyuiopPC1",
        "outputId": "b0f21af9-1c70-415c-e53e-653261f84ff6"
      },
      "source": [
        "y_pred= regg.predict(x_test)\n",
        "np.set_printoptions(precision =3)\n",
        "#print(np.concatenate((y_pred.reshape(len(y_pred), 1), y_test.reshape(len(y_test),1)), 1))\n",
        "print(np.concatenate((y_pred.reshape(len(y_pred), 1), y_test.reshape(len(y_pred),1)),1))"
      ],
      "execution_count": null,
      "outputs": [
        {
          "output_type": "stream",
          "name": "stdout",
          "text": [
            "[[ 0.022  0.   ]\n",
            " [ 0.948  1.   ]\n",
            " [ 0.156  0.   ]\n",
            " [ 1.504  1.   ]\n",
            " [ 0.345  0.   ]\n",
            " [ 0.932  1.   ]\n",
            " [ 0.791  1.   ]\n",
            " [-0.103  0.   ]\n",
            " [-0.19   0.   ]\n",
            " [ 0.205  0.   ]\n",
            " [ 0.989  1.   ]\n",
            " [-0.146  0.   ]\n",
            " [ 0.655  1.   ]\n",
            " [ 0.236  0.   ]\n",
            " [-0.037  0.   ]\n",
            " [ 0.237  0.   ]\n",
            " [ 0.811  1.   ]\n",
            " [ 0.127  0.   ]\n",
            " [ 0.822  1.   ]\n",
            " [-0.027  0.   ]\n",
            " [ 0.721  1.   ]\n",
            " [-0.032  0.   ]\n",
            " [ 0.077  0.   ]\n",
            " [ 0.381  1.   ]\n",
            " [ 0.985  1.   ]\n",
            " [ 0.06   0.   ]\n",
            " [ 1.182  1.   ]\n",
            " [ 0.765  1.   ]\n",
            " [ 0.819  1.   ]\n",
            " [ 0.023  0.   ]\n",
            " [-0.015  0.   ]\n",
            " [ 1.083  1.   ]\n",
            " [ 0.884  1.   ]\n",
            " [-0.011  0.   ]\n",
            " [ 0.054  0.   ]]\n"
          ]
        }
      ]
    },
    {
      "cell_type": "markdown",
      "metadata": {
        "id": "uziF7cmeU4tJ"
      },
      "source": [
        "## Visualizing results"
      ]
    },
    {
      "cell_type": "code",
      "metadata": {
        "colab": {
          "base_uri": "https://localhost:8080/",
          "height": 265
        },
        "id": "qpUpK-tXsg0U",
        "outputId": "2181ac87-8463-4deb-8009-ca29ff5b794b"
      },
      "source": [
        "plt.plot(y_pred)\n",
        "plt.plot(y_test)\n",
        "plt.show()"
      ],
      "execution_count": null,
      "outputs": [
        {
          "output_type": "display_data",
          "data": {
            "image/png": "[encoded data removed]",
            "text/plain": [
              "<Figure size 432x288 with 1 Axes>"
            ]
          },
          "metadata": {
            "needs_background": "light"
          }
        }
      ]
    }
  ]
}